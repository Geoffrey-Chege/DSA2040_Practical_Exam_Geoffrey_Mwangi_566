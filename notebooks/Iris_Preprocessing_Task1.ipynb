{
 "cells": [
  {
   "cell_type": "markdown",
   "id": "e3d6dcae",
   "metadata": {},
   "source": [
    "# Iris Preprocessing (Section 2 Task 1)"
   ]
  },
  {
   "cell_type": "markdown",
   "id": "f7efc515",
   "metadata": {},
   "source": [
    "## Load preprocessed Iris data\n",
    "\n",
    "Load the saved `iris_preprocessed.csv` and extract feature array `X` and true labels."
   ]
  },
  {
   "cell_type": "code",
   "execution_count": 1,
   "id": "f9b14e2f",
   "metadata": {},
   "outputs": [
    {
     "name": "stdout",
     "output_type": "stream",
     "text": [
      "Shape: (150, 6)\n",
      "Missing values per column:\n",
      "sepal length (cm)    0\n",
      "sepal width (cm)     0\n",
      "petal length (cm)    0\n",
      "petal width (cm)     0\n",
      "species              0\n",
      "target               0\n",
      "dtype: int64\n"
     ]
    }
   ],
   "source": [
    "import pandas as pd\n",
    "from sklearn.datasets import load_iris\n",
    "from sklearn.preprocessing import MinMaxScaler, LabelEncoder\n",
    "from pathlib import Path\n",
    "import matplotlib.pyplot as plt\n",
    "\n",
    "PROJECT_ROOT = Path.cwd().parent\n",
    "IMAGES_DIR = PROJECT_ROOT / 'outputs' / 'images'\n",
    "DATA_DIR = PROJECT_ROOT / 'data'\n",
    "IMAGES_DIR.mkdir(parents=True, exist_ok=True)\n",
    "DATA_DIR.mkdir(parents=True, exist_ok=True)\n",
    "\n",
    "data = load_iris()\n",
    "df = pd.DataFrame(data.data, columns=data.feature_names)\n",
    "df['species'] = pd.Categorical.from_codes(data.target, data.target_names)\n",
    "df['target'] = data.target\n",
    "print('Shape:', df.shape)\n",
    "print('Missing values per column:')\n",
    "print(df.isnull().sum())"
   ]
  },
  {
   "cell_type": "markdown",
   "id": "8dee461a",
   "metadata": {},
   "source": [
    "## Scale features and encode labels\n",
    "\n",
    "Apply Min-Max scaling to numeric features and encode species as integers. Save the preprocessed dataset for downstream tasks."
   ]
  },
  {
   "cell_type": "code",
   "execution_count": 3,
   "id": "e2d95c56",
   "metadata": {},
   "outputs": [
    {
     "name": "stdout",
     "output_type": "stream",
     "text": [
      "Saved preprocessed iris to c:\\Users\\HP\\Documents\\DSA2040_Practical_Exam_Geoffrey_Mwangi_566\\data\\iris_preprocessed.csv\n"
     ]
    }
   ],
   "source": [
    "# Scaling and encoding\n",
    "scaler = MinMaxScaler()\n",
    "features = data.feature_names\n",
    "df_scaled = df.copy()\n",
    "df_scaled[features] = scaler.fit_transform(df_scaled[features])\n",
    "le = LabelEncoder()\n",
    "df_scaled['species_encoded'] = le.fit_transform(df_scaled['species'])\n",
    "# save\n",
    "DATA_OUT = PROJECT_ROOT / 'data' / 'iris_preprocessed.csv'\n",
    "df_scaled.to_csv(DATA_OUT, index=False)\n",
    "print('Saved preprocessed iris to', DATA_OUT)"
   ]
  },
  {
   "cell_type": "markdown",
   "id": "466f1d23",
   "metadata": {},
   "source": [
    "## Exploratory visualizations\n",
    "\n",
    "Generate pairwise scatter plots, a correlation heatmap, and boxplots to inspect feature distributions and relationships."
   ]
  },
  {
   "cell_type": "code",
   "execution_count": null,
   "id": "9fe641d0",
   "metadata": {},
   "outputs": [
    {
     "name": "stdout",
     "output_type": "stream",
     "text": [
      "Plots saved to c:\\Users\\HP\\Documents\\DSA2040_Practical_Exam_Geoffrey_Mwangi_566\\outputs\\images\n"
     ]
    }
   ],
   "source": [
    "# Exploratory plots: scatter matrix, correlation heatmap, boxplots\n",
    "from pandas.plotting import scatter_matrix\n",
    "scatter_matrix(df_scaled[features], alpha=0.8, figsize=(10,10))\n",
    "plt.savefig(IMAGES_DIR / 'iris_scatter_matrix.png')\n",
    "\n",
    "\n",
    "plt.figure(figsize=(6,5))\n",
    "plt.imshow(df_scaled[features].corr(), interpolation='nearest', aspect='auto')\n",
    "plt.colorbar()\n",
    "plt.xticks(range(len(features)), features, rotation=45)\n",
    "plt.yticks(range(len(features)), features)\n",
    "plt.tight_layout()\n",
    "plt.savefig(IMAGES_DIR / 'iris_correlation_heatmap.png')\n",
    "\n",
    "\n",
    "plt.figure(figsize=(8,6))\n",
    "df_scaled[features].boxplot()\n",
    "plt.title('Boxplots - Iris features')\n",
    "plt.xticks(rotation=45)\n",
    "plt.tight_layout()\n",
    "plt.savefig(IMAGES_DIR / 'iris_boxplots.png')\n",
    "\n",
    "print('Plots saved to', IMAGES_DIR)"
   ]
  },
  {
   "cell_type": "markdown",
   "id": "c50d77e4",
   "metadata": {},
   "source": [
    "## Train/test split helper\n",
    "\n",
    "Define a function to split the data into train/test sets with stratification."
   ]
  },
  {
   "cell_type": "code",
   "execution_count": 5,
   "id": "cb3f4829",
   "metadata": {},
   "outputs": [
    {
     "name": "stdout",
     "output_type": "stream",
     "text": [
      "Train/test sizes: (120, 4) (30, 4)\n"
     ]
    }
   ],
   "source": [
    "from sklearn.model_selection import train_test_split\n",
    "\n",
    "def split_data(df, test_size=0.2, random_state=42):\n",
    "    X = df[features].values\n",
    "    y = df['species_encoded'].values\n",
    "    return train_test_split(X, y, test_size=test_size, random_state=random_state, stratify=y)\n",
    "\n",
    "X_train, X_test, y_train, y_test = split_data(df_scaled)\n",
    "print('Train/test sizes:', X_train.shape, X_test.shape)"
   ]
  }
 ],
 "metadata": {
  "kernelspec": {
   "display_name": "Python 3",
   "language": "python",
   "name": "python3"
  },
  "language_info": {
   "codemirror_mode": {
    "name": "ipython",
    "version": 3
   },
   "file_extension": ".py",
   "mimetype": "text/x-python",
   "name": "python",
   "nbconvert_exporter": "python",
   "pygments_lexer": "ipython3",
   "version": "3.10.11"
  }
 },
 "nbformat": 4,
 "nbformat_minor": 5
}
