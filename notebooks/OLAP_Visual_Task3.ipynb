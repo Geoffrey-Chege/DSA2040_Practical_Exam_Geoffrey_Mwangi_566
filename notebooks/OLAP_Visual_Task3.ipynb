{
 "cells": [
  {
   "cell_type": "markdown",
   "id": "1bb6b926",
   "metadata": {},
   "source": [
    "# OLAP: Execute Queries from the Retail Data Warehouse (Section 1 Task 3)\n",
    "\n",
    "This notebook runs the roll-up, drill-down and slice queries against the data warehouse (outputs/db/retail_dw.db), saves query outputs (CSV), produces visualizations (PNG), and writes an analysis report (Markdown)."
   ]
  },
  {
   "cell_type": "markdown",
   "id": "077128da",
   "metadata": {},
   "source": [
    "## 3.1 imports & paths"
   ]
  },
  {
   "cell_type": "code",
   "execution_count": 1,
   "id": "a7df3039",
   "metadata": {},
   "outputs": [
    {
     "name": "stdout",
     "output_type": "stream",
     "text": [
      "DB_PATH = c:\\Users\\HP\\Documents\\DSA2040_Practical_Exam_Geoffrey_Mwangi_566\\outputs\\db\\retail_dw.db\n",
      "SQL_PATH = c:\\Users\\HP\\Documents\\DSA2040_Practical_Exam_Geoffrey_Mwangi_566\\sql\\olap_task3.sql\n"
     ]
    }
   ],
   "source": [
    "import sqlite3\n",
    "import pandas as pd\n",
    "from pathlib import Path\n",
    "import matplotlib.pyplot as plt\n",
    "import textwrap\n",
    "\n",
    "PROJECT_ROOT = Path.cwd().parent\n",
    "DB_PATH = PROJECT_ROOT / 'outputs' / 'db' / 'retail_dw.db'\n",
    "SQL_PATH = PROJECT_ROOT / 'sql' / 'olap_task3.sql'\n",
    "IMAGES_DIR = PROJECT_ROOT / 'outputs' / 'images'\n",
    "REPORTS_DIR = PROJECT_ROOT / 'outputs' / 'reports'\n",
    "IMAGES_DIR.mkdir(parents=True, exist_ok=True)\n",
    "REPORTS_DIR.mkdir(parents=True, exist_ok=True)\n",
    "\n",
    "print(\"DB_PATH =\", DB_PATH)\n",
    "print(\"SQL_PATH =\", SQL_PATH)"
   ]
  },
  {
   "cell_type": "markdown",
   "id": "dff7836f",
   "metadata": {},
   "source": [
    "## 3.2 load SQL file text and split into three queries — fallback to inline if file not found"
   ]
  },
  {
   "cell_type": "code",
   "execution_count": 2,
   "id": "8985bbaf",
   "metadata": {},
   "outputs": [
    {
     "name": "stdout",
     "output_type": "stream",
     "text": [
      "Found 4 SQL blocks (split by ';').\n"
     ]
    }
   ],
   "source": [
    "# Read SQL file with the three queries. If file is missing, we fall back to inline query text.\n",
    "if SQL_PATH.exists():\n",
    "    sql_text = SQL_PATH.read_text()\n",
    "else:\n",
    "    # Inline fallback (same queries as provided in SQL file)\n",
    "    sql_text = '''\n",
    "    -- Roll-up\n",
    "    SELECT c.country, t.year, t.quarter, SUM(s.total_sales) AS total_sales, COUNT(DISTINCT s.invoice_no) AS num_invoices\n",
    "    FROM SalesFact s\n",
    "    JOIN CustomerDim c ON s.customer_id = c.customer_id\n",
    "    JOIN TimeDim t     ON s.time_id = t.time_id\n",
    "    GROUP BY c.country, t.year, t.quarter\n",
    "    ORDER BY t.year, t.quarter, total_sales DESC;\n",
    "\n",
    "    -- Drill-down (UK example)\n",
    "    SELECT t.year, t.month, SUM(s.total_sales) AS total_sales, COUNT(DISTINCT s.invoice_no) AS num_invoices, COUNT(*) AS rows\n",
    "    FROM SalesFact s\n",
    "    JOIN CustomerDim c ON s.customer_id = c.customer_id\n",
    "    JOIN TimeDim t     ON s.time_id = t.time_id\n",
    "    WHERE c.country = 'United Kingdom'\n",
    "    GROUP BY t.year, t.month\n",
    "    ORDER BY t.year, t.month;\n",
    "\n",
    "    -- Slice (Electronics)\n",
    "    SELECT p.category, SUM(s.total_sales) AS total_sales, COUNT(DISTINCT s.invoice_no) AS num_invoices\n",
    "    FROM SalesFact s\n",
    "    JOIN ProductDim p ON s.product_id = p.product_id\n",
    "    WHERE p.category = 'Electronics'\n",
    "    GROUP BY p.category;\n",
    "    '''\n",
    "# split into individual statements by the double newline followed by a comment or heuristic\n",
    "queries = [q.strip() for q in sql_text.strip().split(';') if q.strip()]\n",
    "print(f\"Found {len(queries)} SQL blocks (split by ';').\")"
   ]
  },
  {
   "cell_type": "markdown",
   "id": "7a7749fd",
   "metadata": {},
   "source": [
    "## 3.3 execute roll-up query and save CSV + create visualization"
   ]
  },
  {
   "cell_type": "code",
   "execution_count": 3,
   "id": "8f2a3813",
   "metadata": {},
   "outputs": [
    {
     "name": "stdout",
     "output_type": "stream",
     "text": [
      "Saved roll-up CSV to c:\\Users\\HP\\Documents\\DSA2040_Practical_Exam_Geoffrey_Mwangi_566\\outputs\\reports\\rollup_country_quarter.csv\n",
      "Saved chart: c:\\Users\\HP\\Documents\\DSA2040_Practical_Exam_Geoffrey_Mwangi_566\\outputs\\images\\sales_by_country.png\n"
     ]
    }
   ],
   "source": [
    "conn = sqlite3.connect(DB_PATH)\n",
    "\n",
    "# Roll-up: total sales by country & quarter\n",
    "rollup_q = \"\"\"\n",
    "SELECT c.country, t.year, t.quarter, SUM(s.total_sales) AS total_sales, COUNT(DISTINCT s.invoice_no) AS num_invoices\n",
    "FROM SalesFact s\n",
    "JOIN CustomerDim c ON s.customer_id = c.customer_id\n",
    "JOIN TimeDim t     ON s.time_id = t.time_id\n",
    "GROUP BY c.country, t.year, t.quarter\n",
    "ORDER BY t.year, t.quarter, total_sales DESC\n",
    "\"\"\"\n",
    "df_rollup = pd.read_sql_query(rollup_q, conn)\n",
    "df_rollup.to_csv(REPORTS_DIR / 'rollup_country_quarter.csv', index=False)\n",
    "print(\"Saved roll-up CSV to\", REPORTS_DIR / 'rollup_country_quarter.csv')\n",
    "\n",
    "# Visualization 1: total sales by country (aggregated over all quarters)\n",
    "agg_by_country = df_rollup.groupby('country', as_index=False)['total_sales'].sum().sort_values('total_sales', ascending=False)\n",
    "plt.figure(figsize=(12,6))\n",
    "plt.bar(agg_by_country['country'].astype(str), agg_by_country['total_sales'])\n",
    "plt.xticks(rotation=45, ha='right')\n",
    "plt.ylabel('Total Sales')\n",
    "plt.title('Total Sales by Country (all quarters)')\n",
    "plt.tight_layout()\n",
    "plt.savefig(IMAGES_DIR / 'sales_by_country.png')\n",
    "plt.close()\n",
    "print(\"Saved chart:\", IMAGES_DIR / 'sales_by_country.png')"
   ]
  },
  {
   "cell_type": "markdown",
   "id": "bfec7cb3",
   "metadata": {},
   "source": [
    "## 3.4 execute drill-down query — parameterize country variable — save CSV + visualization"
   ]
  },
  {
   "cell_type": "code",
   "execution_count": 4,
   "id": "838998c8",
   "metadata": {},
   "outputs": [
    {
     "name": "stdout",
     "output_type": "stream",
     "text": [
      "Saved drill-down CSV to c:\\Users\\HP\\Documents\\DSA2040_Practical_Exam_Geoffrey_Mwangi_566\\outputs\\reports\\drilldown_United_Kingdom_by_month.csv\n",
      "Saved chart: c:\\Users\\HP\\Documents\\DSA2040_Practical_Exam_Geoffrey_Mwangi_566\\outputs\\images\\drilldown_United_Kingdom_monthly.png\n"
     ]
    }
   ],
   "source": [
    "# Drill-down: sales by month for a chosen country\n",
    "country_of_interest = 'United Kingdom'\n",
    "\n",
    "drill_q = f\"\"\"\n",
    "SELECT t.year, t.month, SUM(s.total_sales) AS total_sales, COUNT(DISTINCT s.invoice_no) AS num_invoices\n",
    "FROM SalesFact s\n",
    "JOIN CustomerDim c ON s.customer_id = c.customer_id\n",
    "JOIN TimeDim t     ON s.time_id = t.time_id\n",
    "WHERE c.country = ?\n",
    "GROUP BY t.year, t.month\n",
    "ORDER BY t.year, t.month\n",
    "\"\"\"\n",
    "df_drill = pd.read_sql_query(drill_q, conn, params=(country_of_interest,))\n",
    "df_drill.to_csv(REPORTS_DIR / f'drilldown_{country_of_interest.replace(\" \",\"_\")}_by_month.csv', index=False)\n",
    "print(\"Saved drill-down CSV to\", REPORTS_DIR / f'drilldown_{country_of_interest.replace(\" \",\"_\")}_by_month.csv')\n",
    "\n",
    "# Visualization 2: monthly sales for UK\n",
    "if not df_drill.empty:\n",
    "    # combine year-month into a datetime for plotting\n",
    "    df_drill['date'] = pd.to_datetime(df_drill['year'].astype(str) + '-' + df_drill['month'].astype(str) + '-01')\n",
    "    plt.figure(figsize=(10,5))\n",
    "    plt.plot(df_drill['date'], df_drill['total_sales'], marker='o')\n",
    "    plt.title(f'Monthly Total Sales - {country_of_interest}')\n",
    "    plt.ylabel('Total Sales')\n",
    "    plt.xlabel('Month')\n",
    "    plt.xticks(rotation=45)\n",
    "    plt.tight_layout()\n",
    "    plt.savefig(IMAGES_DIR / f'drilldown_{country_of_interest.replace(\" \",\"_\")}_monthly.png')\n",
    "    plt.close()\n",
    "    print(\"Saved chart:\", IMAGES_DIR / f'drilldown_{country_of_interest.replace(\" \",\"_\")}_monthly.png')\n",
    "else:\n",
    "    print(\"No drill-down rows for\", country_of_interest)\n"
   ]
  },
  {
   "cell_type": "markdown",
   "id": "8a989cc7",
   "metadata": {},
   "source": [
    "## 3.5 execute slice query for Electronics and save CSV"
   ]
  },
  {
   "cell_type": "code",
   "execution_count": 5,
   "id": "7ac32d73",
   "metadata": {},
   "outputs": [
    {
     "name": "stdout",
     "output_type": "stream",
     "text": [
      "Saved slice CSV to c:\\Users\\HP\\Documents\\DSA2040_Practical_Exam_Geoffrey_Mwangi_566\\outputs\\reports\\slice_electronics_total_sales.csv\n"
     ]
    },
    {
     "data": {
      "text/plain": [
       "(          country  year  quarter  total_sales  num_invoices\n",
       " 0  United Kingdom  2010        4    498661.85          1291\n",
       " 1         Germany  2010        4     15241.14            30\n",
       " 2          France  2010        4      9616.31            21\n",
       " 3            EIRE  2010        4      8813.88            15\n",
       " 4     Netherlands  2010        4      8784.48             3,\n",
       "    year  month  total_sales  num_invoices       date\n",
       " 0  2010     12   498661.850          1291 2010-12-01\n",
       " 1  2011      1   442190.060           874 2011-01-01\n",
       " 2  2011      2   355655.630           896 2011-02-01\n",
       " 3  2011      3   467198.590          1177 2011-03-01\n",
       " 4  2011      4   409559.141          1058 2011-04-01,\n",
       "       category  total_sales  num_invoices\n",
       " 0  Electronics      3752.74           264)"
      ]
     },
     "execution_count": 5,
     "metadata": {},
     "output_type": "execute_result"
    }
   ],
   "source": [
    "slice_q = \"\"\"\n",
    "SELECT p.category, SUM(s.total_sales) AS total_sales, COUNT(DISTINCT s.invoice_no) AS num_invoices\n",
    "FROM SalesFact s\n",
    "JOIN ProductDim p ON s.product_id = p.product_id\n",
    "WHERE p.category = 'Electronics'\n",
    "GROUP BY p.category\n",
    "\"\"\"\n",
    "df_slice = pd.read_sql_query(slice_q, conn)\n",
    "df_slice.to_csv(REPORTS_DIR / 'slice_electronics_total_sales.csv', index=False)\n",
    "print(\"Saved slice CSV to\", REPORTS_DIR / 'slice_electronics_total_sales.csv')\n",
    "conn.close()\n",
    "df_rollup.head(), df_drill.head(), df_slice.head()"
   ]
  }
 ],
 "metadata": {
  "kernelspec": {
   "display_name": "Python 3",
   "language": "python",
   "name": "python3"
  },
  "language_info": {
   "codemirror_mode": {
    "name": "ipython",
    "version": 3
   },
   "file_extension": ".py",
   "mimetype": "text/x-python",
   "name": "python",
   "nbconvert_exporter": "python",
   "pygments_lexer": "ipython3",
   "version": "3.10.11"
  }
 },
 "nbformat": 4,
 "nbformat_minor": 5
}
